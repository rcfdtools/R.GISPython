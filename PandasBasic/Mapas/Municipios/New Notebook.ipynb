{
 "cells": [
  {
   "cell_type": "code",
   "execution_count": null,
   "metadata": {},
   "outputs": [
    {
     "name": "stdout",
     "output_type": "stream",
     "text": [
      "----------------------------------------------------------------------------\n",
      "Introducción a pandas - Representación estadística de Municipios de Colombia\n",
      "----------------------------------------------------------------------------\n",
      "Python versión: 3.7.11 [MSC v.1927 64 bit (AMD64)]\n",
      "Encuentra este script en https://github.com/rcfdtools/R.GISPython/tree/main/PandasBasic\n",
      "Cláusulas y condiciones de uso en https://github.com/rcfdtools/R.GISPython/wiki/License\n",
      "Créditos: r.cfdtools@gmail.com\n",
      "\n",
      "-------------------------------------------\n",
      "Visualización y graficación de archivos CSV\n",
      "-------------------------------------------\n",
      "\n",
      "Archivo: D:/R.GISPython/PandasBasic/Datos/ArcMapValor.csv\n",
      "       Natural Breaks (Jenks)  Equal Interval      Quantile  \\\n",
      "Clase                                                         \n",
      "1      2380.173697             16308.67596     132.666736     \n",
      "2      9038.960497             32601.61906     287.448131     \n",
      "3      20170.295290            48894.56217     699.363055     \n",
      "4      65187.505270            65187.50527     65187.505270   \n",
      "\n",
      "       Geometrical Interval  Standard Deviation  \n",
      "Clase                                            \n",
      "1      191.655691            2612.356320         \n",
      "2      1390.204041           5810.910895         \n",
      "3      9555.818893           9009.465470         \n",
      "4      65187.505270          65187.505270        \n"
     ]
    }
   ],
   "source": [
    "%run -i D:\\R.GISPython\\PandasBasic\\PandasBasic.py"
   ]
  },
  {
   "cell_type": "code",
   "execution_count": null,
   "metadata": {},
   "outputs": [],
   "source": []
  }
 ],
 "metadata": {
  "kernelspec": {
   "display_name": "ArcGISPro",
   "language": "Python",
   "name": "python3"
  },
  "language_info": {
   "file_extension": ".py",
   "name": "python",
   "version": "3"
  }
 },
 "nbformat": 4,
 "nbformat_minor": 2
}
