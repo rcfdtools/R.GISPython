{
 "cells": [
  {
   "cell_type": "code",
   "execution_count": 1,
   "metadata": {},
   "outputs": [
    {
     "name": "stdout",
     "output_type": "stream",
     "text": [
      "-------------------------------------------------------------------\n",
      "Estadísticos de capas geográficas - ArcGIS for Desktop - ArcGIS Pro\n",
      "-------------------------------------------------------------------\n",
      "Compatible con: ArcGIS for Desktop y ArcGIS Pro\n",
      "Python versión: 3.7.11 [MSC v.1927 64 bit (AMD64)]\n",
      "Python rutas: ['D:\\\\R.GISPython\\\\LayerStatistic', 'C:\\\\Program Files\\\\ArcGIS\\\\Pro\\\\Resources\\\\ArcPy', 'C:\\\\Program Files\\\\ArcGIS\\\\Pro\\\\bin\\\\Python\\\\envs\\\\arcgispro-py3\\\\DLLs', 'C:\\\\Program Files\\\\ArcGIS\\\\Pro\\\\bin\\\\Python\\\\envs\\\\arcgispro-py3\\\\lib', 'C:\\\\Program Files\\\\ArcGIS\\\\Pro\\\\bin']\n",
      "Encuentra este script en https://github.com/rcfdtools/R.GISPython/tree/main/LayerStatistic\n",
      "Cláusulas y condiciones de uso en https://github.com/rcfdtools/R.GISPython/wiki/License\n",
      "Créditos: r.cfdtools@gmail.com\n",
      "\n",
      "Capa de entrada: Precipitacion.shp\n",
      "Capa de filtrado: D:/R.GISPython/LayerStatistic/Output/LayerSelect.shp\n",
      "Estadísticos capa entrada:  D:/R.GISPython/LayerStatistic/Output/LayerStat.dbf\n",
      "Estadísticos capa filtrada:  D:/R.GISPython/LayerStatistic/Output/LayerStatFilter.dbf\n",
      "\n",
      "----------------------------------------\n",
      "Campos en Precipitacion.shp (Points 428)\n",
      "----------------------------------------\n",
      "  #, Campo, Tipo\n",
      "  1, FID, OID\n",
      "  2, Shape, Geometry\n",
      "  3, Filtro, String\n",
      "  4, CHParamID, String\n",
      "  5, CHInterval, String\n",
      "  6, ESTACIONID, String\n",
      "  7, ESTACION, String\n",
      "  8, TIPO, String\n",
      "  9, FUENTE, String\n",
      "  10, DEPARTAMEN, String\n",
      "  11, MUNICIPIO, String\n",
      "  12, CORRIENTE, String\n",
      "  13, FECHA_INST, String\n",
      "  14, FECHA_SUSP, String\n",
      "  15, LAT_DD_N, Double\n",
      "  16, LON_DD_O, Double\n",
      "  17, COORD_Z_m, Double\n",
      "  18, AREAH, String\n",
      "  19, ZONAH, String\n",
      "  20, SUBZONAH, String\n",
      "  21, vEne, Double\n",
      "  22, vFeb, Double\n",
      "  23, vMar, Double\n",
      "  24, vAbr, Double\n",
      "  25, vMay, Double\n",
      "  26, vJun, Double\n",
      "  27, vJul, Double\n",
      "  28, vAgo, Double\n",
      "  29, vSep, Double\n",
      "  30, vOct, Double\n",
      "  31, vNov, Double\n",
      "  32, vDic, Double\n",
      "  33, TotalAnno, Double\n",
      "  34, PromMes, Double\n",
      "\n",
      "  Antes de continuar, cierre ArcGIS...\n",
      "  >>> Nombre del campo a evaluar (usar comillas): TotalAnno\n",
      "  >>> Mostrar valores >= a: 1200\n",
      "\n",
      "Ejecutando estadística para D:/R.GISPython/LayerStatistic/Output/Precipitacion.shp...\n",
      "Ejecutando estadística para D:/R.GISPython/LayerStatistic/Output/LayerSelect.shp con TotalAnno >= 1200...\n",
      "Conversión de estadísticos a XLS file...\n",
      "Proceso completado, visualice la capa filtrada y las tablas de resultados estadísticos en ArcGIS o en Microsoft Excel.\n"
     ]
    }
   ],
   "source": [
    "%run -i D:\\R.GISPython\\LayerStatistic\\LayerStatisticArcGIS.py"
   ]
  },
  {
   "cell_type": "code",
   "execution_count": null,
   "metadata": {},
   "outputs": [],
   "source": []
  }
 ],
 "metadata": {
  "kernelspec": {
   "display_name": "ArcGISPro",
   "language": "Python",
   "name": "python3"
  },
  "language_info": {
   "file_extension": ".py",
   "name": "python",
   "version": "3"
  }
 },
 "nbformat": 4,
 "nbformat_minor": 2
}
